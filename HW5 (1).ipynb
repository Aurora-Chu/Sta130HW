{
 "cells": [
  {
   "cell_type": "markdown",
   "id": "322ea830",
   "metadata": {},
   "source": [
    "https://chatgpt.com/c/67042a57-10b8-8000-8133-7d1ae2724acd"
   ]
  },
  {
   "cell_type": "markdown",
   "id": "83002ad6",
   "metadata": {},
   "source": [
    "A.In hypothesis testing, the null hypothesis (H₀) assumes that there is no effect or difference, while the alternative hypothesis (H₁) represents what you are trying to prove-usually a statistically significant statement of effect or difference. The goal is to gather evidence to disprove H₀ a"
   ]
  },
  {
   "cell_type": "markdown",
   "id": "022e2d81",
   "metadata": {},
   "source": [
    "B.In a statistical test, the p-value is a probability that expresses how strong the evidence is against the null hypothesis. Assuming the null hypothesis is true, it shows the probability of getting a test result that is at least as severe as the observed result. A little p-value (typically less than 0.05) means that there is strong evidence against the null hypothesis, which means it is rejected; on the other hand, a big p-value means that there is weak evidence and the null hypothesis will not be rejected. Nevertheless, p-values do not quantify the importance or effect size of the findings on their own."
   ]
  },
  {
   "cell_type": "markdown",
   "id": "f0073eb7",
   "metadata": {},
   "source": [
    "1.Statistical tests can only be performed if the hypothesis is testable and measurable. Ideas that cannot be quantified or lack data support cannot be statistically tested.The criteria for defining a good null hypothesis is that a good null hypothesis should be clear, measurable and falsifiable, meaning that it can be rejected or supported through data analysis.The null hypothesis (H₀) assumes no effect or difference.\n",
    "The alternative hypothesis (H₁) is to propose an effect or difference, as opposed to the null hypothesis."
   ]
  },
  {
   "cell_type": "markdown",
   "id": "587a4c1d",
   "metadata": {},
   "source": [
    "2.In most statistical tests, inferences about the entire population (all individuals) are drawn from a sample, or a smaller group. For instance, if we gather information from a sample, we compute values like as the sample mean (xˉ). All we actually need to know, though, is the population mean μ. The purpose of hypothesis testing is to determine if our sample supports the possibility that the population value (such as μ0) may differ from what is observed in the sample.Put simply, the objective is to draw conclusions about the population as a whole, not just the sample, even if we deal with samples."
   ]
  },
  {
   "cell_type": "markdown",
   "id": "2d748b32",
   "metadata": {},
   "source": [
    "3.Because the p-value calculation is predicated on the assumption that the null hypothesis (H₀) is true, we \"imagine a world in which the null hypothesis is true\" while calculating the p-value. We assess the probability that the reported data or even more severe outcomes would materialize if this assumption were correct. By assuming this, we are able to establish if there is enough evidence to reject the null hypothesis and hence decide whether the alternative hypothesis (H₁) is supported.\n"
   ]
  },
  {
   "cell_type": "markdown",
   "id": "9975d623",
   "metadata": {},
   "source": [
    "4.When the p-value is minimal, it indicates that there is very little chance that the observed data or more severe outcomes will materialize if the null hypothesis (H₀) is correct. It's similar to living in a world where the presumptions are true but the real information sharply contradicts them, creating an impression of \"absurdity.\" A smaller p-value indicates a greater basis for doubting the validity of the null hypothesis and a greater propensity to reject it.\n"
   ]
  },
  {
   "cell_type": "markdown",
   "id": "6f844ceb",
   "metadata": {},
   "source": [
    "5.To simulate a p-value for this scenario, we'll perform a binomial test, as it models the number of successes (head tilts to the right) in a given number of trials (total couples) under the assumption that each trial has a 50/50 chance of success. Here are the steps:\n",
    "\n",
    "Null Hypothesis (H0​ ): The population does not have a tendency to tilt their heads left or right when kissing, meaning the probability of tilting right is 0.5.\n",
    "\n",
    "Observed Proportion: 80 out of 124 couples tilted their heads to the right, so the observed proportion is 80/124=0.645\n",
    "\n",
    "Simulate p-value: The p-value will indicate how likely it is to observe a proportion of 0.645 or more, assuming the null hypothesis (0.5 probability of tilting right) is true.\n",
    "\n",
    "The p-value for this binomial test is approximately 0.00078.\n",
    "\n",
    "Using the table you provided, this p-value falls into the category of 0.001≥𝑝, which means we have \"Very strong evidence against the null hypothesis.\" Therefore, the data suggests a significant tendency for couples to tilt their heads to the right when kissing."
   ]
  },
  {
   "cell_type": "markdown",
   "id": "a7b83227",
   "metadata": {},
   "source": [
    "6.A lower p-value does not indicate with certainty that the null hypothesis is incorrect. The p-value does not offer compelling proof that the null hypothesis must be false; rather, it just indicates the likelihood of witnessing the data in the event that the null hypothesis is true. In a same vein, Fido's guilt or innocence cannot be proven beyond a reasonable doubt by the p-value.\n",
    "\n",
    "Even yet, it is not absolute proof because the p-value usually employs a threshold (e.g., 0.05) to assess if the null hypothesis is rejected. For instance, a low p-value suggests that the evidence does not show Fido's guilt but does not support the null hypothesis, whereas a high p-value indicates that the evidence is inadequate to reject the null hypothesis but does not prove Fido's innocence.\n"
   ]
  },
  {
   "cell_type": "markdown",
   "id": "4c3d69e8",
   "metadata": {},
   "source": [
    "7.Changes in the Code:\n",
    "Two-Sided Test:\n",
    "1)In a two-sided hypothesis test, we test for deviations in both directions (i.e., whether the observed value is significantly greater than or less than the expected value under the null hypothesis).\n",
    "When calculating the p-value in a two-sided test, we look at both extremes of the distribution. In terms of code, this might involve checking whether the simulated statistics fall either above or below the observed statistic and doubling the smaller tail probability.\n",
    "One-Sided Test:\n",
    "\n",
    "2)In a one-sided test, we are only interested in deviations in one direction. For example, if you want to test whether the health score improves (i.e., increases), you're only looking for values greater than your observed statistic.\n",
    "The change in code for the one-sided test would involve checking whether the simulated statistics are only greater than (or less than, depending on the hypothesis) the observed statistic, without doubling the probability from both sides.\n",
    "\n",
    "Expected Change in P-Value:In a one-sided test, the p-value should indeed be smaller than in a two-sided test because you are only considering one direction of deviation. Since you're ignoring deviations in the opposite direction, you're effectively cutting the p-value in half (assuming the distribution is symmetric).\n",
    "Hypothesis Test Interpretation:A two-sided test is used when we are interested in deviations in both directions (e.g., we want to know if there's any significant difference, whether positive or negative).\n",
    "A one-sided test is used when we have a specific direction in mind (e.g., we only care if the vaccine leads to an improvement in health scores, not a decrease)."
   ]
  },
  {
   "cell_type": "code",
   "execution_count": 5,
   "id": "80d0c931",
   "metadata": {},
   "outputs": [
    {
     "name": "stdout",
     "output_type": "stream",
     "text": [
      "   Total Students  Correct Answers  Observed Proportion  P-value (one-sided)  \\\n",
      "0              80               49               0.6125             0.028332   \n",
      "\n",
      "   Significance Level (alpha)  Reject Null Hypothesis?  \n",
      "0                        0.05                     True  \n"
     ]
    }
   ],
   "source": [
    "import scipy.stats as stats\n",
    "import pandas as pd\n",
    "\n",
    "# Given data\n",
    "n_students = 80  # Total number of students\n",
    "n_correct = 49   # Number of students who correctly identified the pouring order\n",
    "prob_null = 0.5  # Null hypothesis probability (random guessing)\n",
    "\n",
    "# Perform a one-sided binomial test using the updated function 'binomtest'\n",
    "binom_result = stats.binomtest(n_correct, n_students, prob_null, alternative='greater')\n",
    "\n",
    "# Extract the p-value from the result\n",
    "p_value_sta130 = binom_result.pvalue\n",
    "\n",
    "# Organize the results in a dictionary\n",
    "data = {\n",
    "    'Total Students': [n_students],                      # Total number of students\n",
    "    'Correct Answers': [n_correct],                      # Number of correct answers\n",
    "    'Observed Proportion': [n_correct / n_students],     # Observed proportion of correct answers\n",
    "    'P-value (one-sided)': [p_value_sta130],             # P-value from the one-sided test\n",
    "    'Significance Level (alpha)': [0.05],                # Significance level (alpha = 0.05)\n",
    "    'Reject Null Hypothesis?': [p_value_sta130 < 0.05]   # Decision: whether to reject the null hypothesis\n",
    "}\n",
    "\n",
    "# Create a DataFrame to display the results\n",
    "results_df = pd.DataFrame(data)\n",
    "print(results_df)\n",
    "\n"
   ]
  },
  {
   "cell_type": "markdown",
   "id": "ac70252d",
   "metadata": {},
   "source": [
    "9.yes"
   ]
  }
 ],
 "metadata": {
  "kernelspec": {
   "display_name": "Python 3 (ipykernel)",
   "language": "python",
   "name": "python3"
  },
  "language_info": {
   "codemirror_mode": {
    "name": "ipython",
    "version": 3
   },
   "file_extension": ".py",
   "mimetype": "text/x-python",
   "name": "python",
   "nbconvert_exporter": "python",
   "pygments_lexer": "ipython3",
   "version": "3.11.6"
  }
 },
 "nbformat": 4,
 "nbformat_minor": 5
}
