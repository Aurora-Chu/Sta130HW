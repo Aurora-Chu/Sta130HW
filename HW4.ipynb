{
 "cells": [
  {
   "cell_type": "code",
   "execution_count": null,
   "id": "728f7a06-9e00-4d2d-8a07-dd6802899e23",
   "metadata": {},
   "outputs": [],
   "source": [
    "The standard deviation represents variations in the original data and quantifies the dispersion of individual data points.\n",
    "The sample mean's variation is measured by the standard error of the mean, which also indicates how accurate the mean estimate is.\n"
   ]
  },
  {
   "cell_type": "code",
   "execution_count": null,
   "id": "2dc51cca-f808-4adf-822c-9eea29a7f28b",
   "metadata": {},
   "outputs": [],
   "source": [
    "First, the mean of the sample is computed, and then the standard deviation of the sample is divided by the square root of the sample size. To get the margin of error, multiply the SEM by the confidence coefficient after determining the confidence coefficient Z-value, also known as the t-value. Lastly, the interval that results from multiplying or dividing the margin of error by the sample mean is the confidence interval."
   ]
  },
  {
   "cell_type": "code",
   "execution_count": null,
   "id": "f68babfb-af8a-44bc-9772-2ea79e951a9c",
   "metadata": {},
   "outputs": [],
   "source": [
    "The 2.5% and 97.5% percentile points of the bootstrap mean distribution were used to calculate the 95% confidence interval. The confidence interval's bottom and upper bounds are made up of these two numbers.\n"
   ]
  },
  {
   "cell_type": "code",
   "execution_count": 1,
   "id": "2d9b23b2-de0b-473e-9700-e9b9ad0de394",
   "metadata": {},
   "outputs": [
    {
     "name": "stdout",
     "output_type": "stream",
     "text": [
      "95% Bootstrap Confidence Interval (Population Mean): [13.7, 21.2]\n",
      "95% Bootstrap Confidence Interval (Population Median): [13.0, 21.5]\n"
     ]
    }
   ],
   "source": [
    "import numpy as np\n",
    "import pandas as pd\n",
    "\n",
    "# Sample data (you can replace this with your own data)\n",
    "sample = np.array([12, 15, 14, 10, 18, 20, 25, 30, 16, 13])\n",
    "\n",
    "# Define a function to generate bootstrap samples and compute a statistic\n",
    "def bootstrap(data, num_bootstrap_samples=1000, statistic=np.mean, ci=95):\n",
    "    \"\"\"\n",
    "    data: Original sample data\n",
    "    num_bootstrap_samples: Number of bootstrap samples\n",
    "    statistic: The statistic to compute, e.g., np.mean (mean) or np.median (median)\n",
    "    ci: Confidence interval percentage\n",
    "    \"\"\"\n",
    "    # Store the statistic for each bootstrap sample\n",
    "    bootstrap_stats = []\n",
    "    \n",
    "    # Generate num_bootstrap_samples bootstrap samples\n",
    "    for _ in range(num_bootstrap_samples):\n",
    "        # Randomly sample with replacement from the original data\n",
    "        bootstrap_sample = np.random.choice(data, size=len(data), replace=True)\n",
    "        # Compute the statistic for the bootstrap sample (e.g., mean)\n",
    "        stat = statistic(bootstrap_sample)\n",
    "        bootstrap_stats.append(stat)\n",
    "    \n",
    "    # Sort the bootstrap statistics\n",
    "    sorted_stats = np.sort(bootstrap_stats)\n",
    "    \n",
    "    # Calculate the confidence interval bounds (2.5% and 97.5% percentiles for a 95% CI)\n",
    "    lower_bound = np.percentile(sorted_stats, (100 - ci) / 2)\n",
    "    upper_bound = np.percentile(sorted_stats, 100 - (100 - ci) / 2)\n",
    "    \n",
    "    return lower_bound, upper_bound\n",
    "\n",
    "# Calculate the 95% bootstrap confidence interval for the population mean\n",
    "mean_ci_lower, mean_ci_upper = bootstrap(sample)\n",
    "print(f\"95% Bootstrap Confidence Interval (Population Mean): [{mean_ci_lower}, {mean_ci_upper}]\")\n",
    "\n",
    "# To calculate the 95% bootstrap confidence interval for the population median,\n",
    "# simply change the statistic parameter to np.median\n",
    "median_ci_lower, median_ci_upper = bootstrap(sample, statistic=np.median)\n",
    "print(f\"95% Bootstrap Confidence Interval (Population Median): [{median_ci_lower}, {median_ci_upper}]\")\n"
   ]
  },
  {
   "cell_type": "code",
   "execution_count": null,
   "id": "10692e6f-1175-4a3b-82b6-4fdfd509bbf9",
   "metadata": {},
   "outputs": [],
   "source": [
    "Confidence intervals are created in order to extrapolate population parameters from sample data. The estimate of population parameters from the sample statistic is imprecise because sample data are prone to random error. Confidence intervals give a range that represents our degree of confidence in the probable values of the population parameter. Thus, knowing the distinction between the sample statistic and the population parameter enables us to evaluate the data more precisely and draw trustworthy conclusions.\n"
   ]
  },
  {
   "cell_type": "code",
   "execution_count": null,
   "id": "35442412-2e9e-4b8e-a0b8-99a75b5f6eaf",
   "metadata": {},
   "outputs": [],
   "source": [
    "Hey, imagine you have a group of, say, your friends' weights, but you've only measured a few of them. Bootstrapping is like playing a game. Its main purpose is to help us get more information from this small sample, especially about some characteristics of the whole group, such as the average weight. In this way, we can obtain more reliable statistical information, such as the confidence level and confidence intervals of the estimates, or even the level of confidence we have in the results.Suppose you think the average weight of your friends is 70kg, but you only have a sample of size n, say 6 people. First, draw a random sample from your 6 friends, say by substitution. That is, you are allowed to sample the same person's weight multiple times. This is like making a larger sample out of the sample you already have. For each sample, calculate the average height of that small sample. Repeat this process, say doing it 1,000 times, and you'll end up with 1,000 values for the average weight. See what these 1000 average values look like. You'll notice that they fluctuate within a certain range, and that range gives you some sense of the average weight. You can calculate the percentile of these averages to find something like a 95% confidence interval. Finally, you can then see if your guess falls within that confidence interval. If it does, then your guess is probably plausible; if it doesn't, then it's probably time to reconsider."
   ]
  },
  {
   "cell_type": "code",
   "execution_count": null,
   "id": "880956a6-8245-4141-bf76-7863ac4f5d5a",
   "metadata": {},
   "outputs": [],
   "source": [
    "When the confidence interval overlaps with zero, although the mean of the sample may not be zero, we still cannot rule out the possibility that the drug's effect is zero and therefore cannot reject the null hypothesis. Conversely, if the confidence interval does not contain zero at all, or if the p-value is less than the significance level, we can reject the null hypothesis and assume that the drug does have an effect."
   ]
  },
  {
   "cell_type": "code",
   "execution_count": 7,
   "id": "186d690e-98cf-4aea-b710-627c7d0e2e14",
   "metadata": {},
   "outputs": [
    {
     "name": "stdout",
     "output_type": "stream",
     "text": [
      "<class 'pandas.core.frame.DataFrame'>\n",
      "RangeIndex: 10 entries, 0 to 9\n",
      "Data columns (total 5 columns):\n",
      " #   Column              Non-Null Count  Dtype \n",
      "---  ------              --------------  ----- \n",
      " 0   PatientID           10 non-null     int64 \n",
      " 1   Age                 10 non-null     int64 \n",
      " 2   Gender              10 non-null     object\n",
      " 3   InitialHealthScore  10 non-null     int64 \n",
      " 4   FinalHealthScore    10 non-null     int64 \n",
      "dtypes: int64(4), object(1)\n",
      "memory usage: 532.0+ bytes\n",
      "None\n",
      "       PatientID       Age  InitialHealthScore  FinalHealthScore\n",
      "count   10.00000  10.00000           10.000000         10.000000\n",
      "mean     5.50000  38.40000           81.000000         84.300000\n",
      "std      3.02765   8.30261            2.828427          2.110819\n",
      "min      1.00000  26.00000           76.000000         80.000000\n",
      "25%      3.25000  33.25000           79.250000         83.250000\n",
      "50%      5.50000  38.00000           81.000000         85.000000\n",
      "75%      7.75000  44.00000           83.000000         86.000000\n",
      "max     10.00000  52.00000           85.000000         86.000000\n",
      "   PatientID  HealthImprovement\n",
      "0          1                  2\n",
      "1          2                  8\n",
      "2          3                 -3\n",
      "3          4                  5\n",
      "4          5                  3\n",
      "5          6                  6\n",
      "6          7                  7\n",
      "7          8                 -3\n",
      "8          9                  7\n",
      "9         10                  1\n",
      "T-statistic: 2.5900615612703937\n",
      "P-value: 0.02921052381549256\n",
      "Reject the null hypothesis: The vaccine is effective.\n",
      "Mean Health Improvement: 3.3\n",
      "95% Confidence Interval for Mean Improvement: (0.4177833188707214, 6.182216681129278)\n"
     ]
    }
   ],
   "source": [
    "import pandas as pd\n",
    "from scipy import stats\n",
    "\n",
    "# Step 1: Load the dataset\n",
    "data = pd.DataFrame({\n",
    "    'PatientID': [1, 2, 3, 4, 5, 6, 7, 8, 9, 10],\n",
    "    'Age': [45, 34, 29, 52, 37, 41, 33, 48, 26, 39],\n",
    "    'Gender': ['M', 'F', 'M', 'F', 'M', 'F', 'M', 'F', 'M', 'F'],\n",
    "    'InitialHealthScore': [84, 78, 83, 81, 81, 80, 79, 85, 76, 83],\n",
    "    'FinalHealthScore': [86, 86, 80, 86, 84, 86, 86, 82, 83, 84]\n",
    "})\n",
    "\n",
    "# Step 2: Data overview\n",
    "print(data.info())  # Check the structure of the data\n",
    "print(data.describe())  # Check basic statistics\n",
    "\n",
    "# Step 3: Calculate health improvement\n",
    "data['HealthImprovement'] = data['FinalHealthScore'] - data['InitialHealthScore']\n",
    "print(data[['PatientID', 'HealthImprovement']])\n",
    "\n",
    "# Step 4: Hypothesis testing (one-sample t-test)\n",
    "# Null hypothesis (H0): The vaccine has no effect (mean improvement = 0)\n",
    "# Alternative hypothesis (H1): The vaccine improves health (mean improvement > 0)\n",
    "\n",
    "t_statistic, p_value = stats.ttest_1samp(data['HealthImprovement'], 0)\n",
    "print(f\"T-statistic: {t_statistic}\")\n",
    "print(f\"P-value: {p_value}\")\n",
    "\n",
    "# Step 5: Decision based on significance level\n",
    "alpha = 0.05  # Significance level of 5%\n",
    "if p_value < alpha:\n",
    "    print(\"Reject the null hypothesis: The vaccine is effective.\")\n",
    "else:\n",
    "    print(\"Fail to reject the null hypothesis: There is not enough evidence to claim the vaccine is effective.\")\n",
    "\n",
    "# Step 6: Construct a 95% confidence interval for mean health improvement\n",
    "mean_improvement = data['HealthImprovement'].mean()\n",
    "std_error = stats.sem(data['HealthImprovement'])\n",
    "confidence_level = 0.95\n",
    "degrees_freedom = len(data['HealthImprovement']) - 1\n",
    "confidence_interval = stats.t.interval(confidence_level, degrees_freedom, loc=mean_improvement, scale=std_error)\n",
    "\n",
    "print(f\"Mean Health Improvement: {mean_improvement}\")\n",
    "print(f\"95% Confidence Interval for Mean Improvement: {confidence_interval}\")\n"
   ]
  },
  {
   "cell_type": "code",
   "execution_count": null,
   "id": "43f1b47c-eb14-4448-850c-4139b214bd30",
   "metadata": {},
   "outputs": [],
   "source": []
  }
 ],
 "metadata": {
  "kernelspec": {
   "display_name": "Python 3 (ipykernel)",
   "language": "python",
   "name": "python3"
  },
  "language_info": {
   "codemirror_mode": {
    "name": "ipython",
    "version": 3
   },
   "file_extension": ".py",
   "mimetype": "text/x-python",
   "name": "python",
   "nbconvert_exporter": "python",
   "pygments_lexer": "ipython3",
   "version": "3.11.6"
  }
 },
 "nbformat": 4,
 "nbformat_minor": 5
}
